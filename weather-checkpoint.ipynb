{
 "cells": [
  {
   "cell_type": "code",
   "execution_count": null,
   "metadata": {},
   "outputs": [],
   "source": [
    "### This Notebook retreives the weather data of a town/city (input by user)"
   ]
  },
  {
   "cell_type": "code",
   "execution_count": null,
   "metadata": {},
   "outputs": [],
   "source": [
    "import urllib.request, urllib.parse, urllib.error\n",
    "import json"
   ]
  },
  {
   "cell_type": "code",
   "execution_count": null,
   "metadata": {},
   "outputs": [],
   "source": [
    "### Gets the secret API key (you have to get one from Openwheather website and use) from a JSON file, stored in the same folder"
   ]
  },
  {
   "cell_type": "code",
   "execution_count": null,
   "metadata": {},
   "outputs": [],
   "source": [
    "with open('APIkeys.json') as f:\n",
    "    keys = json.load(f)\n",
    "    weatherapi = keys['weatherapi']"
   ]
  },
  {
   "cell_type": "code",
   "execution_count": null,
   "metadata": {},
   "outputs": [],
   "source": [
    "serviceurl = 'http:/api.openweathermap.org/data/2.5/weather?'\n",
    "apikey = 'APPID='+weatherapi"
   ]
  },
  {
   "cell_type": "code",
   "execution_count": null,
   "metadata": {},
   "outputs": [],
   "source": [
    "### Runs a loop of getting address input from user and prints basic weather data"
   ]
  },
  {
   "cell_type": "code",
   "execution_count": null,
   "metadata": {},
   "outputs": [],
   "source": [
    "while True:\n",
    "    address = input('Enter the name of a town (enter \\'quit\\' or hit ENTER to quit'): ')\n",
    "    if len(address) < 1 or address =='quit': break\n",
    "        \n",
    "    url = serviceurl + urllib.parse.urlencode({'q': address})+'&'+apikey\n",
    "    print(f'Retrieving the weather data of {address} now...')\n",
    "    uh = urllib.request.urlopen(url)\n",
    "    \n",
    "    data = uh.read()\n",
    "    json_data = json.loads(data)\n",
    "    \n",
    "    main = json_data['main']\n",
    "    description = json_data['weather'][-1]['description']\n",
    "    \n",
    "    pressure_mbar = main['pressure']\n",
    "    pressure_inch_Hg = pressure_mbar*0.02953\n",
    "    humidity = main['humidity']\n",
    "    temp_min = main['temp_min']-273\n",
    "    temp_max = main['temp_max']-273\n",
    "    temp = main['temp']-273\n",
    "    \n",
    "    print(f\"\\nRight now {address} has {description}. Key weather parameters are as follows\\n\"+\"-\"*70)\n",
    "    print(f\"Pressure: {pressure} mbar/{pressure_inch_Hg} inch Hg\")\n",
    "    print(f\"Humidity: {humidity}%\")\n",
    "    print(f\"Temperature: {round(temp,2)} degree C\")"
   ]
  }
 ],
 "metadata": {
  "kernelspec": {
   "display_name": "Python 3",
   "language": "python",
   "name": "python3"
  },
  "language_info": {
   "codemirror_mode": {
    "name": "ipython",
    "version": 3
   },
   "file_extension": ".py",
   "mimetype": "text/x-python",
   "name": "python",
   "nbconvert_exporter": "python",
   "pygments_lexer": "ipython3",
   "version": "3.7.0"
  }
 },
 "nbformat": 4,
 "nbformat_minor": 2
}
